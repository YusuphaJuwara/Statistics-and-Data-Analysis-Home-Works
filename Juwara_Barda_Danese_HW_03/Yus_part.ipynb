{
 "cells": [
  {
   "cell_type": "markdown",
   "metadata": {},
   "source": [
    "### ```Exercise 1```"
   ]
  },
  {
   "cell_type": "code",
   "execution_count": 46,
   "metadata": {},
   "outputs": [],
   "source": [
    "import matplotlib.pyplot as plt, numpy as np\n",
    "\n",
    "#pip install dcor\n",
    "import dcor"
   ]
  },
  {
   "cell_type": "markdown",
   "metadata": {},
   "source": [
    "**1a). Download the data and perform quadratic regression with Distance as response variable and Angle as explanatory\n",
    "variable, with both Python routines and matrix computation.**"
   ]
  },
  {
   "cell_type": "code",
   "execution_count": 9,
   "metadata": {},
   "outputs": [
    {
     "name": "stdout",
     "output_type": "stream",
     "text": [
      "[[   1   10  100]\n",
      " [   1   15  225]\n",
      " [   1   20  400]\n",
      " [   1   24  576]\n",
      " [   1   30  900]\n",
      " [   1   34 1156]\n",
      " [   1   40 1600]\n",
      " [   1   45 2025]\n",
      " [   1   48 2304]\n",
      " [   1   50 2500]\n",
      " [   1   58 3364]\n",
      " [   1   60 3600]\n",
      " [   1   64 4096]]\n",
      "\n",
      "[[115.6]\n",
      " [157.2]\n",
      " [189.2]\n",
      " [220.8]\n",
      " [253.8]\n",
      " [269.2]\n",
      " [284.8]\n",
      " [285. ]\n",
      " [277.4]\n",
      " [269.2]\n",
      " [244.2]\n",
      " [231.4]\n",
      " [180.4]]\n",
      "\n",
      "[10 15 20 24 30 34 40 45 48 50 58 60 64]\n"
     ]
    }
   ],
   "source": [
    "# Read the file and get the Angle and Distance\n",
    "\n",
    "filename =r\"I:\\.shortcut-targets-by-id\\18_Ba5hQNuJ-AInD_13oyx0yiaN0cToVW\\STAT4ACSAI\\Juwara_Barda_Danese_HW_03\\MLB.txt\"\n",
    "\n",
    "def readFile(filename, mode='r'):\n",
    "    \n",
    "    with open(filename, mode) as f:\n",
    "        readIt = f.read().split()\n",
    "        #print(readIt)\n",
    "        \n",
    "        l = len(readIt)\n",
    "        l2 = (l//2) - 1 # print out the readIt to understand this\n",
    "        \n",
    "        X_matrix = np.empty((l2, 3), dtype='int')\n",
    "        y = np.empty(shape=(l2,1))\n",
    "        \n",
    "        X_vec = [] # I'll use this later, just forget it for now.\n",
    "        \n",
    "        k=0\n",
    "        for i in range(2, l, 2):\n",
    "            y[k]  = np.array(  readIt[i+1], dtype='float') \n",
    "            \n",
    "            X_matrix[k, :] = 1, int(readIt[i] ), (int(readIt[i]))**2        # c + bx + ax**2\n",
    "            \n",
    "            X_vec.append( int( readIt[i]) )\n",
    "            \n",
    "            k += 1\n",
    "    \n",
    "    return X_matrix, y, np.array(X_vec)\n",
    "\n",
    "X_matrix, y, X_vec = readFile(filename)\n",
    "print(X_matrix,y, X_vec, sep=\"\\n\\n\")"
   ]
  },
  {
   "cell_type": "markdown",
   "metadata": {},
   "source": [
    "### Finding the parameters $\\beta$  \n",
    "\n",
    "$$\\boldsymbol{ \n",
    "y = \\beta X + \\epsilon  \\\\  \n",
    "\\implies \\epsilon = y-\\beta X\n",
    "}\n",
    "$$\n",
    "\n",
    "How do we find $\\boldsymbol{\\beta}$?  \n",
    "Well, we already have the data points. We just have to solve for the least squares estimates of the parameters in a polynomial regression model.\n",
    "\n",
    "In matrix form, we have,\n",
    "$$\n",
    "\\boldsymbol{ ||Y - Xβ||^2 = (Y-X\\beta)^T(Y-X\\beta) = (Y^T - \\beta^T X^T)(Y-X\\beta) = Y^T Y - Y^T X \\beta - \\beta^T X^T Y + \\beta^T X^T X \\beta }\n",
    "$$\n",
    "Finding the minimum can be achieved through setting the gradient of the loss to zero and solving for $\\displaystyle {\\boldsymbol {\\beta }}$. \n",
    "This implies that, \n",
    "$$\n",
    "\\frac{\\partial}{\\partial \\beta} (Y^T Y - Y^T X \\beta - \\beta^T X^T Y + \\beta^T X^T X \\beta ) = 0  \\\\\n",
    "\\implies -2X^TY + 2X^TX\\beta = 0 \\\\\n",
    "\\implies X^TY = X^TX\\beta\\\\\n",
    "$$\n",
    "If  $X^TY$ is not **singular**, then\n",
    "$$ \\boldsymbol{ \\beta = (X^TX)^{-1} X^TY } $$\n",
    "\n",
    "\n"
   ]
  },
  {
   "cell_type": "markdown",
   "metadata": {},
   "source": [
    "#### For Quadratic regression, we have: $y = \\beta_0 + \\beta_1 X + \\beta_2 X^2$, where X is the Angle and y is the Distance.\n",
    "\n",
    "Now let us find the parameters $\\beta$ in pyhton"
   ]
  },
  {
   "cell_type": "code",
   "execution_count": 47,
   "metadata": {},
   "outputs": [
    {
     "name": "stdout",
     "output_type": "stream",
     "text": [
      "[-21.89774466  14.52117133  -0.17371411]\n"
     ]
    }
   ],
   "source": [
    "# Calculating the parameters beta\n",
    "\n",
    "def beta_func(X, Y):\n",
    "\n",
    "    inv = np.linalg.inv \n",
    "    param_betas = inv(X.T @ X) @ X.T @ Y\n",
    "    \n",
    "    return np.array([arr[0] for arr in param_betas])\n",
    "\n",
    "beta = beta_func(X_matrix,y)\n",
    "print(beta)\n"
   ]
  },
  {
   "cell_type": "markdown",
   "metadata": {},
   "source": [
    "With these computed parameters for $\\beta$, our Quadratic regression is $\\boldsymbol{ y = -21.8977 + 14.5212X - 0.1737X^2 } $"
   ]
  },
  {
   "cell_type": "code",
   "execution_count": 49,
   "metadata": {},
   "outputs": [
    {
     "name": "stdout",
     "output_type": "stream",
     "text": [
      "[105.94255727 156.83414971 199.04003646 226.55103777 257.39469291\n",
      " 271.00856512 281.00652661 279.78388493 274.8811612  269.87553757\n",
      " 235.95591396 224.00172579 195.92421071]\n"
     ]
    },
    {
     "data": {
      "text/plain": [
       "'\\nbetas = np.polyfit(X_vec, y, deg=2)\\nyhat_vals = np.polyval(betas, X_vec)\\nyhat_vals\\n'"
      ]
     },
     "execution_count": 49,
     "metadata": {},
     "output_type": "execute_result"
    }
   ],
   "source": [
    "# The predicted values by the model.\n",
    "\n",
    "def quadratic_regression(X_vec, beta):\n",
    "    \n",
    "    return beta[0] + beta[1]*X_vec + beta[2]*( X_vec**2 )\n",
    "    #return  X_matrix @ beta.T if X_matrix is used instead\n",
    "\n",
    "y_hat = quadratic_regression(X_vec, beta)\n",
    "print(y_hat)\n",
    "\n",
    "\n",
    "# But the beta_func and the quadratic_regression functions above could have been implemented with python built-in functions as follows:\n",
    "\"\"\"\n",
    "betas = np.polyfit(X_vec, y, deg=2)\n",
    "yhat_vals = np.polyval(betas, X_vec)\n",
    "yhat_vals\n",
    "\"\"\""
   ]
  },
  {
   "cell_type": "code",
   "execution_count": 50,
   "metadata": {},
   "outputs": [
    {
     "data": {
      "image/png": "[encoded data removed]",
      "text/plain": [
       "<Figure size 720x720 with 1 Axes>"
      ]
     },
     "metadata": {
      "needs_background": "light"
     },
     "output_type": "display_data"
    }
   ],
   "source": [
    "# Plot the points and visualize\n",
    "\n",
    "plt.figure(figsize=(10, 10))\n",
    "plt.plot(X_vec, y, marker='o', color='black', markersize=8, markeredgecolor='yellow', label='real')\n",
    "\n",
    "plt.plot(X_vec, y_hat, color='blue', label='Fitted/estimated')\n",
    "\n",
    "plt.xlabel(\"Angle\")\n",
    "plt.ylabel(\"Distance\")\n",
    "\n",
    "# Plot the angle value of 27\n",
    "q = quadratic_regression(27, beta)\n",
    "plt.plot(27, q, marker='o', color='red', markersize=10, markeredgecolor='black', label=\"angle of 27 $\\degree$\")\n",
    "\n",
    "plt.annotate(\"(%d $\\degree$, %.2f)\" % (27,q), (20,q+8), color='r')\n",
    "\n",
    "# Plot the y max\n",
    "grad_x = (-beta[1])/(beta[2] *2)\n",
    "y_max = quadratic_regression(grad_x, beta)\n",
    "plt.plot(grad_x, y_max, marker='x', color='green', markersize=10, label='y_max')\n",
    "\n",
    "plt.annotate(\"(%.2f $\\degree$, %.2f)\" % (grad_x, y_max), (grad_x-5,y_max-12), color='green')\n",
    "\n",
    "# This concerns 3a) for linear regression instead of quadratic regression.\n",
    "beta_linear = np.polyfit(X_vec, y, deg=1)\n",
    "y_hat_linear = np.polyval(beta_linear, X_vec)\n",
    "plt.plot(X_vec, y_hat_linear, color='purple', label='Linear')\n",
    "\n",
    "plt.legend(loc='upper left')\n",
    "plt.show()\n"
   ]
  },
  {
   "cell_type": "markdown",
   "metadata": {},
   "source": [
    "**1b). Comment on the goodness of fit of the model.**\n",
    "\n",
    "Well, we can use $R^2$ or $adjusted-R^2$.  \n",
    "\n",
    "$$R^2 = \\frac{SSR}{TSS} = \\frac{ \\sum_i (\\widehat{Y} - \\overline{Y})^2 }{\\sum_i (Y - \\overline{Y})^2} $$\n",
    "where $\\boldsymbol{ \\widehat{Y} = X \\beta} $\n",
    "$$adjusted-R^2 = 1 - \\frac{n-1}{n-(p+1)}(1-R^2) $$\n",
    "\n",
    "From the computation below, $\\boldsymbol{R}^2 = 0.98$ and $Adjusted-\\boldsymbol{R}^2 = 0.977$. \n",
    "This means that 98% of the variability between the two variables has been accounted for (the “explained” part), and the remaining 2% of the variability is still unaccounted for\n",
    "\n",
    "R² can be seen as the percentage of the prediction variable’s variation that is explained by a linear model.\n",
    "\n",
    "In other words, it’s a measure of how close the data is to the fitted regression line:"
   ]
  },
  {
   "cell_type": "code",
   "execution_count": 51,
   "metadata": {},
   "outputs": [
    {
     "data": {
      "text/plain": [
       "(0.9812242873843355, 0.9774691448612026)"
      ]
     },
     "execution_count": 51,
     "metadata": {},
     "output_type": "execute_result"
    }
   ],
   "source": [
    "def r_squared(y_hat, Y):\n",
    "    \n",
    "    # e = Y - y_hat\n",
    "    # SSE = np.sum(e**2 )\n",
    "    \n",
    "    y_mean = np.mean(Y)\n",
    "    \n",
    "    TSS = np.sum( (Y- y_mean)**2 )\n",
    "    SSR = np.sum( (y_hat - y_mean)**2 )\n",
    "    \n",
    "    return SSR/TSS\n",
    "\n",
    "r_squared1 = r_squared(y_hat, y.T)\n",
    "\n",
    "adjusted_r_squared = 1 - ( (len(y_hat)-1)/(len(y_hat)-len(beta)) )*(1-r_squared1)\n",
    "\n",
    "r_squared1, adjusted_r_squared\n",
    "\n",
    "#plt.scatter(X_vec, y)"
   ]
  },
  {
   "cell_type": "markdown",
   "metadata": {},
   "source": [
    "**2a).  What is the average distance we would observe with an angle of 27 $\\boldsymbol{ \\degree }$?**\n"
   ]
  },
  {
   "cell_type": "markdown",
   "metadata": {},
   "source": [
    "From our quadratic regression, we got $\\boldsymbol{ y = -21.8977 + 14.5212X - 0.1737X^2  } $ to 4 decimal places for precision. Substituting $\\boldsymbol{27 \\degree}$ for X gives the average distance thereof to be\n",
    "$$\n",
    "\\boldsymbol{ y = -21.8977 + 14.5212X - 0.1737X^2 =  -21.8977 + 14.5212(27) - 0.1737(27)^2  \\approx 243.54} \n",
    "$$\n",
    "as can be seen from the graph."
   ]
  },
  {
   "cell_type": "markdown",
   "metadata": {},
   "source": [
    "**2b). What is the interpretation of $\\boldsymbol{ \\frac{−β_1}{ 2β_2} } $ ?**"
   ]
  },
  {
   "cell_type": "markdown",
   "metadata": {},
   "source": [
    "For Quadratic regression, we have: $y = \\beta_0 + \\beta_1 X + \\beta_2 X^2$. If we set the gradient to zero w.r.t X, we get\n",
    "$$\n",
    "\\frac{\\partial y}{\\partial X} = \\beta_1 + 2 \\beta_2 X = 0  \\\\\n",
    "\\implies X = \\frac{−β_1}{ 2β_2} \n",
    "$$\n",
    "If we substitute for $\\beta_1$ and $\\beta_2 $, we get\n",
    "$$\n",
    "X = \\frac{-14.5212}{ 2 (-0.1737)} \\approx 41.8\n",
    "$$\n",
    "\n",
    "This is the value of X for which y has maximum value. In other words, it is the maxima. it is $\\approx 281.57 $ as can be seen from the gragh above."
   ]
  },
  {
   "cell_type": "markdown",
   "metadata": {},
   "source": [
    "**3a).  Compute the correlation between Distance and Angle.**\n",
    "\n",
    "We know that the correlation between 2 variables X,Y when they have linear relationship is well captured by $\\boldsymbol{ r = \\frac{Cov(X, Y)}{\\sqrt{ Var(X)Var(Y) }} }$, where X is Angle in degrees and Y is Distance in feet  \n",
    "\n",
    "What if the relationship is not linear? Well, we can still use r, but we prefer using Distance correlation defined as thus:\n",
    "$$\n",
    "dCorr(X, Y) = \\frac{dCov(X, Y)}{\\sqrt{dVar(X) dVar(Y)}}\n",
    "$$\n",
    "Where $dCov(X, Y) = \\frac{1}{n^2} \\sum_{i=1}^{n} \\sum_{j=1}^{n} D(x_i, x_j) \\cdot D(y_i, y_j) $.   \n",
    "dVar(X) = dCov(X, X) and dVar(Y) = dCov(Y, Y). Lukily, we don't have to do the nitty-gritty work because python has a module for it called dcor.\n",
    "\n",
    "\n",
    "\n",
    "From the computation below, the correlation between Angle and Distance is $\\boldsymbol{dCorr} \\approx 0.67$ when use Distance correlation, and $\\boldsymbol{r} \\approx 0.51$ when use pearson correlation coefficient.\n"
   ]
  },
  {
   "cell_type": "code",
   "execution_count": 54,
   "metadata": {},
   "outputs": [
    {
     "name": "stdout",
     "output_type": "stream",
     "text": [
      "0.5125235098907193\n",
      "0.6674225027061504\n"
     ]
    }
   ],
   "source": [
    "#Even though the Quadratic regression almost perfectly fits the data as can be read from the R_Squared and seen from the graph, this below r function says that there is only 51% correlation between Angle and Distance, which means that r does not capture the relationship well because the relationship is non-linear.\n",
    "#I use another correlation matrix called the Distance correlation as defined above, which works for non linear relationships as well.\n",
    "\n",
    "# Pearson correlation coefficient, r\n",
    "def r(X, Y):\n",
    "    cor_vals = np.cov(X, Y.T)\n",
    "    cor_XY = cor_vals[0,1]\n",
    "    var_X = cor_vals[0,0]\n",
    "    var_Y = cor_vals[1,1]\n",
    "\n",
    "    return cor_XY/np.sqrt(var_X * var_Y)\n",
    "\n",
    "r1 = r(X_vec, y)\n",
    "print(r1 )\n",
    "\n",
    "# Distance correlation, dCorr\n",
    "import dcor\n",
    "dcorr_XY = dcor.distance_correlation(X_vec, y)\n",
    "print(dcorr_XY)\n"
   ]
  },
  {
   "cell_type": "markdown",
   "metadata": {},
   "source": [
    "**3b).  Would simple linear regression be adequate for this problem?\n",
    "Motivate your answer.**"
   ]
  },
  {
   "cell_type": "markdown",
   "metadata": {},
   "source": [
    "From the graph above, we see that it does not fit the data, so the answer is no. But how do we quantify this?\n",
    "\n",
    "Since the coefficient of determination (R²) is used to identify the strength of a model, we can use it to see how well the linear model captures our data.\n",
    "\n",
    "From the code below, we can see that since R² = 0.26, which is well below 50%, we can conclude that the linear model does not model the data well, and so it is not adeguate."
   ]
  },
  {
   "cell_type": "code",
   "execution_count": 55,
   "metadata": {},
   "outputs": [
    {
     "data": {
      "text/plain": [
       "(0.26268034819070213, 0.19565128893531136)"
      ]
     },
     "execution_count": 55,
     "metadata": {},
     "output_type": "execute_result"
    }
   ],
   "source": [
    "r_squared_linear = r_squared(y_hat_linear, y.T)\n",
    "\n",
    "adjusted_r_squared = 1 - ( (len(y_hat_linear)-1)/(len(y_hat_linear)-len(beta_linear)) )*(1-r_squared_linear)\n",
    "\n",
    "r_squared_linear, adjusted_r_squared\n",
    "\n",
    "#plt.scatter(X_vec, y)\n"
   ]
  }
 ],
 "metadata": {
  "interpreter": {
   "hash": "8b1c34a4705f1ad3e989dda6439809041f8cc2de32377149232f1be5f4f19a59"
  },
  "kernelspec": {
   "display_name": "Python 3.8.11 ('base')",
   "language": "python",
   "name": "python3"
  },
  "language_info": {
   "codemirror_mode": {
    "name": "ipython",
    "version": 3
   },
   "file_extension": ".py",
   "mimetype": "text/x-python",
   "name": "python",
   "nbconvert_exporter": "python",
   "pygments_lexer": "ipython3",
   "version": "3.8.11"
  },
  "orig_nbformat": 4
 },
 "nbformat": 4,
 "nbformat_minor": 2
}
